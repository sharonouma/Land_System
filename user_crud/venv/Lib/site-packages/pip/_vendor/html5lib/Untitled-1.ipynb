{
 "cells": [
  {
   "cell_type": "code",
   "execution_count": 7,
   "metadata": {},
   "outputs": [
    {
     "ename": "SyntaxError",
     "evalue": "invalid syntax (3564508045.py, line 2)",
     "output_type": "error",
     "traceback": [
      "\u001b[1;36m  Cell \u001b[1;32mIn[7], line 2\u001b[1;36m\u001b[0m\n\u001b[1;33m    pip install openpyxl\u001b[0m\n\u001b[1;37m        ^\u001b[0m\n\u001b[1;31mSyntaxError\u001b[0m\u001b[1;31m:\u001b[0m invalid syntax\n"
     ]
    }
   ],
   "source": [
    "import pandas as pd"
   ]
  },
  {
   "cell_type": "code",
   "execution_count": 8,
   "metadata": {},
   "outputs": [
    {
     "name": "stdout",
     "output_type": "stream",
     "text": [
      "Defaulting to user installation because normal site-packages is not writeable\n",
      "Collecting openpyxl\n",
      "  Downloading openpyxl-3.1.1-py2.py3-none-any.whl (249 kB)\n",
      "     ------------------------------------- 249.8/249.8 kB 96.4 kB/s eta 0:00:00\n",
      "Collecting et-xmlfile\n",
      "  Downloading et_xmlfile-1.1.0-py3-none-any.whl (4.7 kB)\n",
      "Installing collected packages: et-xmlfile, openpyxl\n",
      "Successfully installed et-xmlfile-1.1.0 openpyxl-3.1.1\n",
      "Note: you may need to restart the kernel to use updated packages.\n"
     ]
    },
    {
     "name": "stderr",
     "output_type": "stream",
     "text": [
      "\n",
      "[notice] A new release of pip available: 22.3.1 -> 23.0.1\n",
      "[notice] To update, run: python.exe -m pip install --upgrade pip\n"
     ]
    }
   ],
   "source": [
    "pip install openpyxl"
   ]
  },
  {
   "cell_type": "code",
   "execution_count": 13,
   "metadata": {},
   "outputs": [],
   "source": [
    "import openpyxl"
   ]
  },
  {
   "cell_type": "code",
   "execution_count": 14,
   "metadata": {},
   "outputs": [
    {
     "name": "stderr",
     "output_type": "stream",
     "text": [
      "C:\\Users\\R\\AppData\\Roaming\\Python\\Python310\\site-packages\\openpyxl\\worksheet\\header_footer.py:48: UserWarning: Cannot parse header or footer so it will be ignored\n",
      "  warn(\"\"\"Cannot parse header or footer so it will be ignored\"\"\")\n"
     ]
    }
   ],
   "source": [
    "data=pd.read_excel(\"C:\\\\Users\\\\R\\Downloads\\\\IHP 525 Data Analysis Data Setxls (for assignments).xlsx\")"
   ]
  },
  {
   "cell_type": "code",
   "execution_count": 15,
   "metadata": {},
   "outputs": [
    {
     "data": {
      "text/html": [
       "<div>\n",
       "<style scoped>\n",
       "    .dataframe tbody tr th:only-of-type {\n",
       "        vertical-align: middle;\n",
       "    }\n",
       "\n",
       "    .dataframe tbody tr th {\n",
       "        vertical-align: top;\n",
       "    }\n",
       "\n",
       "    .dataframe thead th {\n",
       "        text-align: right;\n",
       "    }\n",
       "</style>\n",
       "<table border=\"1\" class=\"dataframe\">\n",
       "  <thead>\n",
       "    <tr style=\"text-align: right;\">\n",
       "      <th></th>\n",
       "      <th>id</th>\n",
       "      <th>admitdate</th>\n",
       "      <th>foldate</th>\n",
       "      <th>los</th>\n",
       "      <th>lenfol</th>\n",
       "      <th>fstat</th>\n",
       "      <th>age</th>\n",
       "      <th>gender</th>\n",
       "      <th>bmi</th>\n",
       "    </tr>\n",
       "  </thead>\n",
       "  <tbody>\n",
       "    <tr>\n",
       "      <th>0</th>\n",
       "      <td>1</td>\n",
       "      <td>1995-03-13</td>\n",
       "      <td>1995-03-19</td>\n",
       "      <td>4</td>\n",
       "      <td>6</td>\n",
       "      <td>1</td>\n",
       "      <td>65</td>\n",
       "      <td>0</td>\n",
       "      <td>31.38134</td>\n",
       "    </tr>\n",
       "    <tr>\n",
       "      <th>1</th>\n",
       "      <td>2</td>\n",
       "      <td>1995-01-14</td>\n",
       "      <td>1996-01-23</td>\n",
       "      <td>5</td>\n",
       "      <td>374</td>\n",
       "      <td>1</td>\n",
       "      <td>88</td>\n",
       "      <td>1</td>\n",
       "      <td>22.65790</td>\n",
       "    </tr>\n",
       "    <tr>\n",
       "      <th>2</th>\n",
       "      <td>3</td>\n",
       "      <td>1995-02-17</td>\n",
       "      <td>2001-10-04</td>\n",
       "      <td>5</td>\n",
       "      <td>2421</td>\n",
       "      <td>1</td>\n",
       "      <td>77</td>\n",
       "      <td>0</td>\n",
       "      <td>27.87892</td>\n",
       "    </tr>\n",
       "    <tr>\n",
       "      <th>3</th>\n",
       "      <td>4</td>\n",
       "      <td>1995-04-07</td>\n",
       "      <td>1995-07-14</td>\n",
       "      <td>9</td>\n",
       "      <td>98</td>\n",
       "      <td>1</td>\n",
       "      <td>81</td>\n",
       "      <td>1</td>\n",
       "      <td>21.47878</td>\n",
       "    </tr>\n",
       "    <tr>\n",
       "      <th>4</th>\n",
       "      <td>5</td>\n",
       "      <td>1995-02-09</td>\n",
       "      <td>1998-05-29</td>\n",
       "      <td>4</td>\n",
       "      <td>1205</td>\n",
       "      <td>1</td>\n",
       "      <td>78</td>\n",
       "      <td>0</td>\n",
       "      <td>30.70601</td>\n",
       "    </tr>\n",
       "  </tbody>\n",
       "</table>\n",
       "</div>"
      ],
      "text/plain": [
       "   id  admitdate    foldate  los  lenfol  fstat  age  gender       bmi\n",
       "0   1 1995-03-13 1995-03-19    4       6      1   65       0  31.38134\n",
       "1   2 1995-01-14 1996-01-23    5     374      1   88       1  22.65790\n",
       "2   3 1995-02-17 2001-10-04    5    2421      1   77       0  27.87892\n",
       "3   4 1995-04-07 1995-07-14    9      98      1   81       1  21.47878\n",
       "4   5 1995-02-09 1998-05-29    4    1205      1   78       0  30.70601"
      ]
     },
     "execution_count": 15,
     "metadata": {},
     "output_type": "execute_result"
    }
   ],
   "source": [
    "data.head()"
   ]
  },
  {
   "cell_type": "code",
   "execution_count": 21,
   "metadata": {},
   "outputs": [],
   "source": [
    "data_new=data[data['gender']==0]"
   ]
  },
  {
   "cell_type": "code",
   "execution_count": 26,
   "metadata": {},
   "outputs": [
    {
     "name": "stdout",
     "output_type": "stream",
     "text": [
      "     id  admitdate    foldate  los  lenfol  fstat  age  gender       bmi\n",
      "0     1 1995-03-13 1995-03-19    4       6      1   65       0  31.38134\n",
      "2     3 1995-02-17 2001-10-04    5    2421      1   77       0  27.87892\n",
      "4     5 1995-02-09 1998-05-29    4    1205      1   78       0  30.70601\n",
      "8     9 1995-08-18 1996-02-23    5     189      1   76       0  27.12082\n",
      "9    10 1995-07-22 2002-12-31    9    2719      0   40       0  21.78971\n",
      "11   12 1995-05-26 1996-09-29   11     492      1   83       0  24.66175\n",
      "13   14 1995-12-14 2002-12-31   10    2574      0   58       0  29.83756\n",
      "14   15 1995-11-08 2002-12-31    7    2610      0   43       0  22.95776\n",
      "15   16 1995-10-08 2002-12-31    5    2641      0   39       0  30.10881\n",
      "16   17 1995-10-17 2000-05-12    6    1669      1   66       0  31.99738\n",
      "17   18 1995-10-30 2003-01-05    9    2624      1   61       0  30.71420\n",
      "18   19 1995-12-10 2002-12-31    6    2578      0   49       0  25.69548\n",
      "20   21 1995-10-05 1996-02-05    6     123      1   85       0  18.41038\n",
      "22   23 1995-09-09 1997-10-22    4     774      1   54       0  28.97529\n",
      "23   24 1995-09-09 2001-03-13   14    2012      1   82       0  19.90095\n",
      "26   27 1995-10-18 2002-12-31    2    2631      0   68       0  26.44693\n",
      "27   28 1995-03-16 2000-06-04    7    1907      1   78       0  28.20595\n",
      "28   29 1995-10-25 1997-04-15    5     538      1   56       0  24.11997\n",
      "30   31 1995-09-03 1995-09-09    4       6      1   72       0  27.97907\n",
      "31   32 1995-06-30 1999-05-01    5    1401      1   50       0  20.36300\n",
      "35   36 1997-02-23 2002-12-31   12    2137      0   75       0  23.67519\n",
      "36   37 1997-01-01 2002-12-31   16    2190      0   61       0  23.43140\n",
      "37   38 1997-01-18 2002-12-31    5    2173      0   48       0  33.45110\n",
      "39   40 1997-03-18 2002-12-31   10    2114      0   82       0  25.82748\n",
      "40   41 1997-02-03 2002-12-31    4    2157      0   62       0  30.86625\n",
      "41   42 1997-05-17 2002-12-31    5    2054      0   39       0  24.21079\n",
      "42   43 1997-03-08 2002-12-31    5    2124      0   45       0  31.66439\n",
      "43   44 1997-02-23 2002-12-31    4    2137      0   65       0  26.22085\n",
      "46   47 1997-04-27 2002-12-31    9    2074      0   68       0  21.30550\n",
      "47   48 1997-05-15 1998-02-13    7     274      1   73       0  26.45678\n",
      "48   49 1997-07-26 2002-12-31    4    1984      0   64       0  27.97977\n",
      "49   50 1997-07-17 2002-12-31    6    1993      0   80       0  36.02333\n",
      "54   55 1997-09-09 2002-12-31   17    1939      0   80       0  25.50204\n",
      "57   58 1997-09-24 2001-10-30    6    1497      1   92       0  24.36640\n",
      "58   59 1997-09-19 2002-12-31    3    1929      0   51       0  34.77034\n",
      "59   60 1997-04-17 2002-12-31    1    2084      0   41       0  27.26234\n",
      "60   61 1997-10-21 1998-02-05    6     107      1   90       0  24.78423\n",
      "61   62 1997-10-02 1998-12-27    4     451      1   83       0  21.80987\n",
      "62   63 1997-01-08 2002-12-31    3    2183      0   61       0  27.36909\n",
      "63   64 1997-11-11 2002-12-31    7    1876      0   64       0  26.22085\n",
      "64   65 1997-11-07 2000-05-31    3     936      1   82       0  26.88683\n",
      "66   67 1997-06-18 2000-05-01    5    1048      1   48       0  31.58373\n",
      "67   68 1997-10-29 2002-12-31   12    1889      0   63       0  23.33267\n",
      "68   69 1997-04-29 2002-12-31    5    2072      0   81       0  28.35006\n",
      "69   70 1997-11-08 2002-12-31    7    1879      0   52       0  32.63621\n",
      "70   71 1997-11-17 2002-12-31    4    1870      0   65       0  31.95113\n",
      "71   72 1997-11-28 2002-12-31    5    1859      0   74       0  25.01782\n",
      "72   73 1997-05-19 2002-12-31    5    2052      0   62       0  30.22827\n",
      "74   75 1997-05-10 2002-12-31    7    2061      0   71       0  32.32407\n",
      "75   76 1997-10-06 2002-12-31    3    1912      0   73       0  31.47445\n",
      "76   77 1997-12-21 2002-12-31    5    1836      0   43       0  28.59188\n",
      "77   78 1997-11-22 1998-03-16    7     114      1   80       0  33.36074\n",
      "78   79 1997-10-31 2002-02-04    7    1557      1   72       0  21.80987\n",
      "79   80 1997-06-28 2000-12-27    5    1278      1   57       0  23.57087\n",
      "81   82 1997-10-02 2002-12-31    6    1916      0   76       0  28.03555\n",
      "82   83 1997-09-14 2002-12-31    3    1934      0   53       0  24.21079\n",
      "83   84 1997-09-25 2002-12-31   10    1923      0   44       0  32.60387\n",
      "84   85 1997-12-02 1998-01-15    3      44      1   71       0  23.05630\n",
      "85   86 1997-09-26 2002-12-31    6    1922      0   64       0  31.75016\n",
      "86   87 1997-10-24 1998-07-25    5     274      1   86       0  21.10959\n",
      "90   91 1997-10-22 1998-04-22    5     182      1   60       0  23.18023\n",
      "91   92 1997-06-27 2002-12-31    4    2013      0   63       0  35.48949\n",
      "93   94 1997-12-12 2002-05-24    4    1624      1   74       0  30.13206\n",
      "98   99 1997-08-10 2002-12-31   16    1969      0   56       0  29.05295\n",
      "99  100 1997-03-26 2000-02-13    7    1054      1   74       0  32.89087\n"
     ]
    }
   ],
   "source": [
    "print(data_new.to_string())"
   ]
  }
 ],
 "metadata": {
  "kernelspec": {
   "display_name": "Python 3",
   "language": "python",
   "name": "python3"
  },
  "language_info": {
   "codemirror_mode": {
    "name": "ipython",
    "version": 3
   },
   "file_extension": ".py",
   "mimetype": "text/x-python",
   "name": "python",
   "nbconvert_exporter": "python",
   "pygments_lexer": "ipython3",
   "version": "3.10.2"
  },
  "orig_nbformat": 4,
  "vscode": {
   "interpreter": {
    "hash": "26de051ba29f2982a8de78e945f0abaf191376122a1563185a90213a26c5da77"
   }
  }
 },
 "nbformat": 4,
 "nbformat_minor": 2
}
